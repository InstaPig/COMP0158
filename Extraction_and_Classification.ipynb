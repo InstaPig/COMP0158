{
  "nbformat": 4,
  "nbformat_minor": 0,
  "metadata": {
    "colab": {
      "name": "Extraction and Classification.ipynb",
      "provenance": []
    },
    "kernelspec": {
      "name": "python3",
      "display_name": "Python 3"
    },
    "language_info": {
      "name": "python"
    }
  },
  "cells": [
    {
      "cell_type": "markdown",
      "metadata": {
        "id": "RcxAHhZ_snvp"
      },
      "source": [
        "# Data Extraction"
      ]
    },
    {
      "cell_type": "code",
      "metadata": {
        "colab": {
          "base_uri": "https://localhost:8080/"
        },
        "id": "vKCGD2FAsnWY",
        "outputId": "cf2ae140-4500-4d2f-d59e-32f85f1f7b38"
      },
      "source": [
        "# Connect to folder where source file are stored\n",
        "from google.colab import drive\n",
        "drive.mount('/content/gdrive/')"
      ],
      "execution_count": 2,
      "outputs": [
        {
          "output_type": "stream",
          "name": "stdout",
          "text": [
            "Mounted at /content/gdrive/\n"
          ]
        }
      ]
    },
    {
      "cell_type": "code",
      "metadata": {
        "colab": {
          "base_uri": "https://localhost:8080/"
        },
        "id": "MfeuBSpeszP4",
        "outputId": "aca25783-afbb-4507-bd2e-f441c8f2e2ce"
      },
      "source": [
        "# Install required packages\n",
        "!pip install osmium"
      ],
      "execution_count": 3,
      "outputs": [
        {
          "output_type": "stream",
          "name": "stdout",
          "text": [
            "Collecting osmium\n",
            "  Downloading osmium-3.2.0-cp37-cp37m-manylinux_2_12_x86_64.manylinux2010_x86_64.whl (1.3 MB)\n",
            "\u001b[?25l\r\u001b[K     |▎                               | 10 kB 19.5 MB/s eta 0:00:01\r\u001b[K     |▌                               | 20 kB 25.4 MB/s eta 0:00:01\r\u001b[K     |▉                               | 30 kB 13.7 MB/s eta 0:00:01\r\u001b[K     |█                               | 40 kB 9.0 MB/s eta 0:00:01\r\u001b[K     |█▎                              | 51 kB 5.1 MB/s eta 0:00:01\r\u001b[K     |█▋                              | 61 kB 5.2 MB/s eta 0:00:01\r\u001b[K     |█▉                              | 71 kB 5.4 MB/s eta 0:00:01\r\u001b[K     |██                              | 81 kB 6.0 MB/s eta 0:00:01\r\u001b[K     |██▍                             | 92 kB 4.6 MB/s eta 0:00:01\r\u001b[K     |██▋                             | 102 kB 5.0 MB/s eta 0:00:01\r\u001b[K     |██▉                             | 112 kB 5.0 MB/s eta 0:00:01\r\u001b[K     |███▏                            | 122 kB 5.0 MB/s eta 0:00:01\r\u001b[K     |███▍                            | 133 kB 5.0 MB/s eta 0:00:01\r\u001b[K     |███▋                            | 143 kB 5.0 MB/s eta 0:00:01\r\u001b[K     |████                            | 153 kB 5.0 MB/s eta 0:00:01\r\u001b[K     |████▏                           | 163 kB 5.0 MB/s eta 0:00:01\r\u001b[K     |████▍                           | 174 kB 5.0 MB/s eta 0:00:01\r\u001b[K     |████▊                           | 184 kB 5.0 MB/s eta 0:00:01\r\u001b[K     |█████                           | 194 kB 5.0 MB/s eta 0:00:01\r\u001b[K     |█████▏                          | 204 kB 5.0 MB/s eta 0:00:01\r\u001b[K     |█████▌                          | 215 kB 5.0 MB/s eta 0:00:01\r\u001b[K     |█████▊                          | 225 kB 5.0 MB/s eta 0:00:01\r\u001b[K     |██████                          | 235 kB 5.0 MB/s eta 0:00:01\r\u001b[K     |██████▎                         | 245 kB 5.0 MB/s eta 0:00:01\r\u001b[K     |██████▌                         | 256 kB 5.0 MB/s eta 0:00:01\r\u001b[K     |██████▊                         | 266 kB 5.0 MB/s eta 0:00:01\r\u001b[K     |███████                         | 276 kB 5.0 MB/s eta 0:00:01\r\u001b[K     |███████▎                        | 286 kB 5.0 MB/s eta 0:00:01\r\u001b[K     |███████▌                        | 296 kB 5.0 MB/s eta 0:00:01\r\u001b[K     |███████▉                        | 307 kB 5.0 MB/s eta 0:00:01\r\u001b[K     |████████                        | 317 kB 5.0 MB/s eta 0:00:01\r\u001b[K     |████████▍                       | 327 kB 5.0 MB/s eta 0:00:01\r\u001b[K     |████████▋                       | 337 kB 5.0 MB/s eta 0:00:01\r\u001b[K     |████████▉                       | 348 kB 5.0 MB/s eta 0:00:01\r\u001b[K     |█████████▏                      | 358 kB 5.0 MB/s eta 0:00:01\r\u001b[K     |█████████▍                      | 368 kB 5.0 MB/s eta 0:00:01\r\u001b[K     |█████████▋                      | 378 kB 5.0 MB/s eta 0:00:01\r\u001b[K     |██████████                      | 389 kB 5.0 MB/s eta 0:00:01\r\u001b[K     |██████████▏                     | 399 kB 5.0 MB/s eta 0:00:01\r\u001b[K     |██████████▍                     | 409 kB 5.0 MB/s eta 0:00:01\r\u001b[K     |██████████▊                     | 419 kB 5.0 MB/s eta 0:00:01\r\u001b[K     |███████████                     | 430 kB 5.0 MB/s eta 0:00:01\r\u001b[K     |███████████▏                    | 440 kB 5.0 MB/s eta 0:00:01\r\u001b[K     |███████████▌                    | 450 kB 5.0 MB/s eta 0:00:01\r\u001b[K     |███████████▊                    | 460 kB 5.0 MB/s eta 0:00:01\r\u001b[K     |████████████                    | 471 kB 5.0 MB/s eta 0:00:01\r\u001b[K     |████████████▎                   | 481 kB 5.0 MB/s eta 0:00:01\r\u001b[K     |████████████▌                   | 491 kB 5.0 MB/s eta 0:00:01\r\u001b[K     |████████████▊                   | 501 kB 5.0 MB/s eta 0:00:01\r\u001b[K     |█████████████                   | 512 kB 5.0 MB/s eta 0:00:01\r\u001b[K     |█████████████▎                  | 522 kB 5.0 MB/s eta 0:00:01\r\u001b[K     |█████████████▌                  | 532 kB 5.0 MB/s eta 0:00:01\r\u001b[K     |█████████████▉                  | 542 kB 5.0 MB/s eta 0:00:01\r\u001b[K     |██████████████                  | 552 kB 5.0 MB/s eta 0:00:01\r\u001b[K     |██████████████▎                 | 563 kB 5.0 MB/s eta 0:00:01\r\u001b[K     |██████████████▋                 | 573 kB 5.0 MB/s eta 0:00:01\r\u001b[K     |██████████████▉                 | 583 kB 5.0 MB/s eta 0:00:01\r\u001b[K     |███████████████                 | 593 kB 5.0 MB/s eta 0:00:01\r\u001b[K     |███████████████▍                | 604 kB 5.0 MB/s eta 0:00:01\r\u001b[K     |███████████████▋                | 614 kB 5.0 MB/s eta 0:00:01\r\u001b[K     |███████████████▉                | 624 kB 5.0 MB/s eta 0:00:01\r\u001b[K     |████████████████▏               | 634 kB 5.0 MB/s eta 0:00:01\r\u001b[K     |████████████████▍               | 645 kB 5.0 MB/s eta 0:00:01\r\u001b[K     |████████████████▊               | 655 kB 5.0 MB/s eta 0:00:01\r\u001b[K     |█████████████████               | 665 kB 5.0 MB/s eta 0:00:01\r\u001b[K     |█████████████████▏              | 675 kB 5.0 MB/s eta 0:00:01\r\u001b[K     |█████████████████▌              | 686 kB 5.0 MB/s eta 0:00:01\r\u001b[K     |█████████████████▊              | 696 kB 5.0 MB/s eta 0:00:01\r\u001b[K     |██████████████████              | 706 kB 5.0 MB/s eta 0:00:01\r\u001b[K     |██████████████████▎             | 716 kB 5.0 MB/s eta 0:00:01\r\u001b[K     |██████████████████▌             | 727 kB 5.0 MB/s eta 0:00:01\r\u001b[K     |██████████████████▊             | 737 kB 5.0 MB/s eta 0:00:01\r\u001b[K     |███████████████████             | 747 kB 5.0 MB/s eta 0:00:01\r\u001b[K     |███████████████████▎            | 757 kB 5.0 MB/s eta 0:00:01\r\u001b[K     |███████████████████▌            | 768 kB 5.0 MB/s eta 0:00:01\r\u001b[K     |███████████████████▉            | 778 kB 5.0 MB/s eta 0:00:01\r\u001b[K     |████████████████████            | 788 kB 5.0 MB/s eta 0:00:01\r\u001b[K     |████████████████████▎           | 798 kB 5.0 MB/s eta 0:00:01\r\u001b[K     |████████████████████▋           | 808 kB 5.0 MB/s eta 0:00:01\r\u001b[K     |████████████████████▉           | 819 kB 5.0 MB/s eta 0:00:01\r\u001b[K     |█████████████████████           | 829 kB 5.0 MB/s eta 0:00:01\r\u001b[K     |█████████████████████▍          | 839 kB 5.0 MB/s eta 0:00:01\r\u001b[K     |█████████████████████▋          | 849 kB 5.0 MB/s eta 0:00:01\r\u001b[K     |█████████████████████▉          | 860 kB 5.0 MB/s eta 0:00:01\r\u001b[K     |██████████████████████▏         | 870 kB 5.0 MB/s eta 0:00:01\r\u001b[K     |██████████████████████▍         | 880 kB 5.0 MB/s eta 0:00:01\r\u001b[K     |██████████████████████▋         | 890 kB 5.0 MB/s eta 0:00:01\r\u001b[K     |███████████████████████         | 901 kB 5.0 MB/s eta 0:00:01\r\u001b[K     |███████████████████████▏        | 911 kB 5.0 MB/s eta 0:00:01\r\u001b[K     |███████████████████████▍        | 921 kB 5.0 MB/s eta 0:00:01\r\u001b[K     |███████████████████████▊        | 931 kB 5.0 MB/s eta 0:00:01\r\u001b[K     |████████████████████████        | 942 kB 5.0 MB/s eta 0:00:01\r\u001b[K     |████████████████████████▏       | 952 kB 5.0 MB/s eta 0:00:01\r\u001b[K     |████████████████████████▌       | 962 kB 5.0 MB/s eta 0:00:01\r\u001b[K     |████████████████████████▊       | 972 kB 5.0 MB/s eta 0:00:01\r\u001b[K     |█████████████████████████       | 983 kB 5.0 MB/s eta 0:00:01\r\u001b[K     |█████████████████████████▎      | 993 kB 5.0 MB/s eta 0:00:01\r\u001b[K     |█████████████████████████▌      | 1.0 MB 5.0 MB/s eta 0:00:01\r\u001b[K     |█████████████████████████▉      | 1.0 MB 5.0 MB/s eta 0:00:01\r\u001b[K     |██████████████████████████      | 1.0 MB 5.0 MB/s eta 0:00:01\r\u001b[K     |██████████████████████████▎     | 1.0 MB 5.0 MB/s eta 0:00:01\r\u001b[K     |██████████████████████████▋     | 1.0 MB 5.0 MB/s eta 0:00:01\r\u001b[K     |██████████████████████████▉     | 1.1 MB 5.0 MB/s eta 0:00:01\r\u001b[K     |███████████████████████████     | 1.1 MB 5.0 MB/s eta 0:00:01\r\u001b[K     |███████████████████████████▍    | 1.1 MB 5.0 MB/s eta 0:00:01\r\u001b[K     |███████████████████████████▋    | 1.1 MB 5.0 MB/s eta 0:00:01\r\u001b[K     |███████████████████████████▉    | 1.1 MB 5.0 MB/s eta 0:00:01\r\u001b[K     |████████████████████████████▏   | 1.1 MB 5.0 MB/s eta 0:00:01\r\u001b[K     |████████████████████████████▍   | 1.1 MB 5.0 MB/s eta 0:00:01\r\u001b[K     |████████████████████████████▋   | 1.1 MB 5.0 MB/s eta 0:00:01\r\u001b[K     |█████████████████████████████   | 1.1 MB 5.0 MB/s eta 0:00:01\r\u001b[K     |█████████████████████████████▏  | 1.1 MB 5.0 MB/s eta 0:00:01\r\u001b[K     |█████████████████████████████▍  | 1.2 MB 5.0 MB/s eta 0:00:01\r\u001b[K     |█████████████████████████████▊  | 1.2 MB 5.0 MB/s eta 0:00:01\r\u001b[K     |██████████████████████████████  | 1.2 MB 5.0 MB/s eta 0:00:01\r\u001b[K     |██████████████████████████████▏ | 1.2 MB 5.0 MB/s eta 0:00:01\r\u001b[K     |██████████████████████████████▌ | 1.2 MB 5.0 MB/s eta 0:00:01\r\u001b[K     |██████████████████████████████▊ | 1.2 MB 5.0 MB/s eta 0:00:01\r\u001b[K     |███████████████████████████████ | 1.2 MB 5.0 MB/s eta 0:00:01\r\u001b[K     |███████████████████████████████▎| 1.2 MB 5.0 MB/s eta 0:00:01\r\u001b[K     |███████████████████████████████▌| 1.2 MB 5.0 MB/s eta 0:00:01\r\u001b[K     |███████████████████████████████▊| 1.2 MB 5.0 MB/s eta 0:00:01\r\u001b[K     |████████████████████████████████| 1.3 MB 5.0 MB/s \n",
            "\u001b[?25hRequirement already satisfied: requests in /usr/local/lib/python3.7/dist-packages (from osmium) (2.23.0)\n",
            "Requirement already satisfied: chardet<4,>=3.0.2 in /usr/local/lib/python3.7/dist-packages (from requests->osmium) (3.0.4)\n",
            "Requirement already satisfied: urllib3!=1.25.0,!=1.25.1,<1.26,>=1.21.1 in /usr/local/lib/python3.7/dist-packages (from requests->osmium) (1.24.3)\n",
            "Requirement already satisfied: certifi>=2017.4.17 in /usr/local/lib/python3.7/dist-packages (from requests->osmium) (2021.5.30)\n",
            "Requirement already satisfied: idna<3,>=2.5 in /usr/local/lib/python3.7/dist-packages (from requests->osmium) (2.10)\n",
            "Installing collected packages: osmium\n",
            "Successfully installed osmium-3.2.0\n"
          ]
        }
      ]
    },
    {
      "cell_type": "code",
      "metadata": {
        "id": "heAj6quVs4x5"
      },
      "source": [
        "import osmium as osm\n",
        "import pandas as pd\n",
        "\n",
        "# Defining the Handler to extract all the wanted informations\n",
        "# (Type; id; Version; Timestamp; Latitude/Longitude; Amenity type.)\n",
        "class TimelineHandler(osm.SimpleHandler):\n",
        "    def __init__(self):\n",
        "        osm.SimpleHandler.__init__(self)\n",
        "        self.elemtimeline = []\n",
        "        \n",
        "    def node(self, n):\n",
        "        if 'amenity' in n.tags and 'name' in n.tags:\n",
        "            self.elemtimeline.append([\"node\",\n",
        "                                      n.id,\n",
        "                                      n.version,\n",
        "                                      pd.Timestamp(n.timestamp),\n",
        "                                      n.location.lat,\n",
        "                                      n.location.lon,\n",
        "                                      n.tags[\"amenity\"],\n",
        "                                      n.tags[\"name\"]])\n",
        "        elif 'amenity' in n.tags:\n",
        "            self.elemtimeline.append([\"node\",\n",
        "                                      n.id,\n",
        "                                      n.version,\n",
        "                                      pd.Timestamp(n.timestamp),\n",
        "                                      n.location.lat,\n",
        "                                      n.location.lon,\n",
        "                                      n.tags[\"amenity\"],\n",
        "                                      \"N/A\"])"
      ],
      "execution_count": 4,
      "outputs": []
    },
    {
      "cell_type": "code",
      "metadata": {
        "id": "WJXnQ3EMtLK-"
      },
      "source": [
        "tlhandler = TimelineHandler()\n",
        "# change file name to the OSM data download for the specific place under study\n",
        "file_name = \"./gdrive/MyDrive/COMP0158/greater-london-internal.osh.pbf\"\n",
        "tlhandler.apply_file(file_name)\n",
        "colnames = ['type','id','Version','TS',\"Lat\",\"Lon\",'amenity','name']\n",
        "elements = pd.DataFrame(tlhandler.elemtimeline, columns=colnames)\n",
        "elements = elements.sort_values(by=['type','TS'],ascending=False)\n",
        "elements = elements.reset_index(drop=True)"
      ],
      "execution_count": 7,
      "outputs": []
    },
    {
      "cell_type": "code",
      "metadata": {
        "colab": {
          "base_uri": "https://localhost:8080/",
          "height": 201
        },
        "id": "v6pCCAIeto1E",
        "outputId": "dd73e7ba-f2a0-4074-9714-02aadd89c015"
      },
      "source": [
        "elements.head()"
      ],
      "execution_count": 8,
      "outputs": [
        {
          "output_type": "execute_result",
          "data": {
            "text/html": [
              "<div>\n",
              "<style scoped>\n",
              "    .dataframe tbody tr th:only-of-type {\n",
              "        vertical-align: middle;\n",
              "    }\n",
              "\n",
              "    .dataframe tbody tr th {\n",
              "        vertical-align: top;\n",
              "    }\n",
              "\n",
              "    .dataframe thead th {\n",
              "        text-align: right;\n",
              "    }\n",
              "</style>\n",
              "<table border=\"1\" class=\"dataframe\">\n",
              "  <thead>\n",
              "    <tr style=\"text-align: right;\">\n",
              "      <th></th>\n",
              "      <th>type</th>\n",
              "      <th>id</th>\n",
              "      <th>Version</th>\n",
              "      <th>TS</th>\n",
              "      <th>Lat</th>\n",
              "      <th>Lon</th>\n",
              "      <th>amenity</th>\n",
              "      <th>name</th>\n",
              "    </tr>\n",
              "  </thead>\n",
              "  <tbody>\n",
              "    <tr>\n",
              "      <th>0</th>\n",
              "      <td>node</td>\n",
              "      <td>185743749</td>\n",
              "      <td>7</td>\n",
              "      <td>2021-05-09 23:14:56+00:00</td>\n",
              "      <td>51.550833</td>\n",
              "      <td>-0.138445</td>\n",
              "      <td>post_box</td>\n",
              "      <td>N/A</td>\n",
              "    </tr>\n",
              "    <tr>\n",
              "      <th>1</th>\n",
              "      <td>node</td>\n",
              "      <td>303198052</td>\n",
              "      <td>3</td>\n",
              "      <td>2021-05-09 23:14:56+00:00</td>\n",
              "      <td>51.550804</td>\n",
              "      <td>-0.140390</td>\n",
              "      <td>bicycle_parking</td>\n",
              "      <td>N/A</td>\n",
              "    </tr>\n",
              "    <tr>\n",
              "      <th>2</th>\n",
              "      <td>node</td>\n",
              "      <td>8715968899</td>\n",
              "      <td>1</td>\n",
              "      <td>2021-05-09 23:14:56+00:00</td>\n",
              "      <td>51.550761</td>\n",
              "      <td>-0.135600</td>\n",
              "      <td>public_bookcase</td>\n",
              "      <td>Leighton Road Community Book Swap</td>\n",
              "    </tr>\n",
              "    <tr>\n",
              "      <th>3</th>\n",
              "      <td>node</td>\n",
              "      <td>8716017943</td>\n",
              "      <td>1</td>\n",
              "      <td>2021-05-09 23:14:56+00:00</td>\n",
              "      <td>51.550776</td>\n",
              "      <td>-0.140567</td>\n",
              "      <td>bicycle_parking</td>\n",
              "      <td>N/A</td>\n",
              "    </tr>\n",
              "    <tr>\n",
              "      <th>4</th>\n",
              "      <td>node</td>\n",
              "      <td>8716017952</td>\n",
              "      <td>1</td>\n",
              "      <td>2021-05-09 23:14:56+00:00</td>\n",
              "      <td>51.550088</td>\n",
              "      <td>-0.140706</td>\n",
              "      <td>waste_basket</td>\n",
              "      <td>N/A</td>\n",
              "    </tr>\n",
              "  </tbody>\n",
              "</table>\n",
              "</div>"
            ],
            "text/plain": [
              "   type          id  ...          amenity                               name\n",
              "0  node   185743749  ...         post_box                                N/A\n",
              "1  node   303198052  ...  bicycle_parking                                N/A\n",
              "2  node  8715968899  ...  public_bookcase  Leighton Road Community Book Swap\n",
              "3  node  8716017943  ...  bicycle_parking                                N/A\n",
              "4  node  8716017952  ...     waste_basket                                N/A\n",
              "\n",
              "[5 rows x 8 columns]"
            ]
          },
          "metadata": {},
          "execution_count": 8
        }
      ]
    },
    {
      "cell_type": "markdown",
      "metadata": {
        "id": "COaokAK9wnZC"
      },
      "source": [
        "# Classification Logic"
      ]
    },
    {
      "cell_type": "markdown",
      "metadata": {
        "id": "HwXXQuJdtouY"
      },
      "source": [
        "\n",
        "1.   If a record is of Version 1, it is classified as ***New Opening***.\n",
        "\n",
        "2.   If there is a change in the amenity type/name of POI compared to its previous version, it is regarded as ***New Opening***, and the business it represented previously counted as ***Closure***.\n",
        "3.   All other records that do not meet 1 or 2 are considered as ***Updates***.\n",
        "\n",
        "Overall, the idea is to create flags where appropraite and then we will be able to extract the three measurement accordingly."
      ]
    },
    {
      "cell_type": "code",
      "metadata": {
        "id": "D1vPe8MVnV39"
      },
      "source": [
        "# import libraries\n",
        "import pandas as pd\n",
        "import numpy as np\n",
        "import datetime as dt\n",
        "import math\n",
        "import scipy.stats as sp\n",
        "import matplotlib.pyplot as plt\n",
        "from pandas.tseries.offsets import MonthEnd\n",
        "from pandas.tseries.offsets import MonthBegin"
      ],
      "execution_count": 9,
      "outputs": []
    },
    {
      "cell_type": "markdown",
      "metadata": {
        "id": "e5BLT8Zhwqrl"
      },
      "source": [
        "## Amendement Tag"
      ]
    },
    {
      "cell_type": "code",
      "metadata": {
        "id": "lFsFNlPmwtNX"
      },
      "source": [
        "# Name changing flag\n",
        "# To check if there is a any change in the name of the POI\n",
        "def flag(version,id,df):\n",
        "    if version > 1:\n",
        "        \" Comparing the name of business units and check if there is a change in their names\"\n",
        "        try:\n",
        "            return df[(df['id']==id) & (df['Version']==version-1)]['name'].values[0] !=  df[(df['id']==id) & (df['Version']==version)]['name'].values[0]\n",
        "        except:\n",
        "            return \"N/A\"\n",
        "    else:\n",
        "        return \"N/A\"\n",
        "\n",
        "def name_change_flag(df):\n",
        "    return df.apply(lambda row:flag(row.Version, row.id, df),axis=1)"
      ],
      "execution_count": 10,
      "outputs": []
    },
    {
      "cell_type": "code",
      "metadata": {
        "id": "lFxUZSD0wxR2"
      },
      "source": [
        "ele_name_change_flags = name_change_flag(elements)\n",
        "elements[\"amend_tag\"] = ele_name_change_flags"
      ],
      "execution_count": 11,
      "outputs": []
    },
    {
      "cell_type": "code",
      "metadata": {
        "colab": {
          "base_uri": "https://localhost:8080/",
          "height": 201
        },
        "id": "lwkWADR615jZ",
        "outputId": "143fa7c8-3f9a-4791-ac66-56422b21f270"
      },
      "source": [
        "elements.head()"
      ],
      "execution_count": 12,
      "outputs": [
        {
          "output_type": "execute_result",
          "data": {
            "text/html": [
              "<div>\n",
              "<style scoped>\n",
              "    .dataframe tbody tr th:only-of-type {\n",
              "        vertical-align: middle;\n",
              "    }\n",
              "\n",
              "    .dataframe tbody tr th {\n",
              "        vertical-align: top;\n",
              "    }\n",
              "\n",
              "    .dataframe thead th {\n",
              "        text-align: right;\n",
              "    }\n",
              "</style>\n",
              "<table border=\"1\" class=\"dataframe\">\n",
              "  <thead>\n",
              "    <tr style=\"text-align: right;\">\n",
              "      <th></th>\n",
              "      <th>type</th>\n",
              "      <th>id</th>\n",
              "      <th>Version</th>\n",
              "      <th>TS</th>\n",
              "      <th>Lat</th>\n",
              "      <th>Lon</th>\n",
              "      <th>amenity</th>\n",
              "      <th>name</th>\n",
              "      <th>amend_tag</th>\n",
              "    </tr>\n",
              "  </thead>\n",
              "  <tbody>\n",
              "    <tr>\n",
              "      <th>0</th>\n",
              "      <td>node</td>\n",
              "      <td>185743749</td>\n",
              "      <td>7</td>\n",
              "      <td>2021-05-09 23:14:56+00:00</td>\n",
              "      <td>51.550833</td>\n",
              "      <td>-0.138445</td>\n",
              "      <td>post_box</td>\n",
              "      <td>N/A</td>\n",
              "      <td>False</td>\n",
              "    </tr>\n",
              "    <tr>\n",
              "      <th>1</th>\n",
              "      <td>node</td>\n",
              "      <td>303198052</td>\n",
              "      <td>3</td>\n",
              "      <td>2021-05-09 23:14:56+00:00</td>\n",
              "      <td>51.550804</td>\n",
              "      <td>-0.140390</td>\n",
              "      <td>bicycle_parking</td>\n",
              "      <td>N/A</td>\n",
              "      <td>False</td>\n",
              "    </tr>\n",
              "    <tr>\n",
              "      <th>2</th>\n",
              "      <td>node</td>\n",
              "      <td>8715968899</td>\n",
              "      <td>1</td>\n",
              "      <td>2021-05-09 23:14:56+00:00</td>\n",
              "      <td>51.550761</td>\n",
              "      <td>-0.135600</td>\n",
              "      <td>public_bookcase</td>\n",
              "      <td>Leighton Road Community Book Swap</td>\n",
              "      <td>N/A</td>\n",
              "    </tr>\n",
              "    <tr>\n",
              "      <th>3</th>\n",
              "      <td>node</td>\n",
              "      <td>8716017943</td>\n",
              "      <td>1</td>\n",
              "      <td>2021-05-09 23:14:56+00:00</td>\n",
              "      <td>51.550776</td>\n",
              "      <td>-0.140567</td>\n",
              "      <td>bicycle_parking</td>\n",
              "      <td>N/A</td>\n",
              "      <td>N/A</td>\n",
              "    </tr>\n",
              "    <tr>\n",
              "      <th>4</th>\n",
              "      <td>node</td>\n",
              "      <td>8716017952</td>\n",
              "      <td>1</td>\n",
              "      <td>2021-05-09 23:14:56+00:00</td>\n",
              "      <td>51.550088</td>\n",
              "      <td>-0.140706</td>\n",
              "      <td>waste_basket</td>\n",
              "      <td>N/A</td>\n",
              "      <td>N/A</td>\n",
              "    </tr>\n",
              "  </tbody>\n",
              "</table>\n",
              "</div>"
            ],
            "text/plain": [
              "   type          id  ...                               name amend_tag\n",
              "0  node   185743749  ...                                N/A     False\n",
              "1  node   303198052  ...                                N/A     False\n",
              "2  node  8715968899  ...  Leighton Road Community Book Swap       N/A\n",
              "3  node  8716017943  ...                                N/A       N/A\n",
              "4  node  8716017952  ...                                N/A       N/A\n",
              "\n",
              "[5 rows x 9 columns]"
            ]
          },
          "metadata": {},
          "execution_count": 12
        }
      ]
    },
    {
      "cell_type": "markdown",
      "metadata": {
        "id": "tLb-nBq-ynGW"
      },
      "source": [
        "## Closure Tag"
      ]
    },
    {
      "cell_type": "code",
      "metadata": {
        "id": "enW3OzO_4Hav"
      },
      "source": [
        "# Helper function:\n",
        "# To Check if two lists have any value in common\n",
        "def no_common_member(a, b):\n",
        "    a_set = set(a)\n",
        "    b_set = set(b)\n",
        "    if (a_set & b_set):\n",
        "        return False \n",
        "    else:\n",
        "        return True"
      ],
      "execution_count": 13,
      "outputs": []
    },
    {
      "cell_type": "code",
      "metadata": {
        "id": "HmTUQIcO2lYp"
      },
      "source": [
        "# Closure flag\n",
        "def closure(version,amend_flg,id,df):\n",
        "    \" Comparing the type of business units and check if there is a change in their names\"\n",
        "    if amend_flg == True:\n",
        "        try:\n",
        "\n",
        "            # Detect any change in amenity type\n",
        "            if ((df[(df[\"id\"] == id) & (df['Version']==version-1)][\"amenity\"].values[0] \n",
        "                 != df[(df[\"id\"] == id) & (df['Version']==version)][\"amenity\"].values[0])\n",
        "            and (df[(df[\"id\"] == id) & (df['Version']==version-1)][\"name\"].values[0] \n",
        "                 != df[(df[\"id\"] == id) & (df['Version']==version)][\"name\"].values[0])):\n",
        "                return df[(df[\"id\"] == id) & (df['Version']==version-1)][\"amenity\"].values[0]\n",
        "                 \n",
        "            # Detect if a new business has opened and the previous one closed\n",
        "            elif no_common_member(df[(df[\"id\"] == id) & (df['Version']==version-1)][\"name\"].values[0].lower().split(),\n",
        "                                   df[(df[\"id\"] == id) & (df['Version']==version)][\"name\"].values[0].lower().split()):\n",
        "                return df[(df[\"id\"] == id) & (df['Version']==version-1)][\"amenity\"].values[0]\n",
        "                 \n",
        "            # If not above, classified as no closures happened\n",
        "            else:\n",
        "                return False\n",
        "        except:\n",
        "            return False\n",
        "    else:\n",
        "        return False\n",
        "\n",
        "def closure_flag(df):\n",
        "    return df.apply(lambda row:closure(row.Version, row.amend_tag, row.id, df),axis=1)\n",
        "\n",
        "# Previous POI name\n",
        "def closure_name(version,amend_flg,name,id,df):\n",
        "    \" Comparing the type of business units and check if there is a change in their names\"\n",
        "    if (amend_flg == True) and (type(df[(df[\"id\"] == id) & (df['Version']==version-1)][\"name\"].values[0]) == str):\n",
        "        try:\n",
        "            return df[(df[\"id\"] == id) & (df['Version']==version-1)][\"name\"].values[0]\n",
        "        except:\n",
        "            return False\n",
        "    else:\n",
        "        return False\n",
        "\n",
        "def closure_name_func(df):\n",
        "    return df.apply(lambda row:closure_name(row.Version, row.amend_tag, row.name, row.id, df),axis=1)"
      ],
      "execution_count": 14,
      "outputs": []
    },
    {
      "cell_type": "code",
      "metadata": {
        "id": "NbcRtHqy1_4w"
      },
      "source": [
        "closure_flags = closure_flag(elements)\n",
        "elements[\"closure_tag\"] = closure_flags\n",
        "closure_names = closure_name_func(elements)\n",
        "elements[\"previous_name\"] = closure_names"
      ],
      "execution_count": 15,
      "outputs": []
    },
    {
      "cell_type": "markdown",
      "metadata": {
        "id": "JzZNJtSW0XVH"
      },
      "source": [
        "## Amenity Grouping"
      ]
    },
    {
      "cell_type": "code",
      "metadata": {
        "id": "F6TY1OVB4Y2Z"
      },
      "source": [
        "# Data prepared for amenity categories grouping\n",
        "amenity_group = pd.read_excel('Amenity_Grouping.xlsx', index_col=None)\n",
        "\n",
        "# Restructuring the data for grouping purpose\n",
        "amenity_dict = {}\n",
        "for group in amenity_group:\n",
        "    items = str(amenity_group[str(group)].values[0]).split(\",\")\n",
        "    for item in items:\n",
        "        amenity_dict[item.lower()] = str(group)\n",
        "\n",
        "# Amenity Categorization where all amenity type could not be classified are set to be Other\n",
        "elements[\"amenity_group\"] = elements['amenity'].map(amenity_dict).fillna('Other')\n",
        "\n",
        "# Amenity Categorization where all previous amenity type could not be classified are set to be Other\n",
        "elements[\"amenity_group\"] = elements['amenity'].map(amenity_dict).fillna('Other')\n",
        "elements[\"pre_amenity_group\"] = elements['closure_tag'].map(amenity_dict).fillna(\"Other\")"
      ],
      "execution_count": 17,
      "outputs": []
    },
    {
      "cell_type": "code",
      "metadata": {
        "colab": {
          "base_uri": "https://localhost:8080/",
          "height": 352
        },
        "id": "FHKfXNE_3htX",
        "outputId": "66a40509-2230-475d-d5bc-7721aed953ef"
      },
      "source": [
        "elements.head()"
      ],
      "execution_count": 18,
      "outputs": [
        {
          "output_type": "execute_result",
          "data": {
            "text/html": [
              "<div>\n",
              "<style scoped>\n",
              "    .dataframe tbody tr th:only-of-type {\n",
              "        vertical-align: middle;\n",
              "    }\n",
              "\n",
              "    .dataframe tbody tr th {\n",
              "        vertical-align: top;\n",
              "    }\n",
              "\n",
              "    .dataframe thead th {\n",
              "        text-align: right;\n",
              "    }\n",
              "</style>\n",
              "<table border=\"1\" class=\"dataframe\">\n",
              "  <thead>\n",
              "    <tr style=\"text-align: right;\">\n",
              "      <th></th>\n",
              "      <th>type</th>\n",
              "      <th>id</th>\n",
              "      <th>Version</th>\n",
              "      <th>TS</th>\n",
              "      <th>Lat</th>\n",
              "      <th>Lon</th>\n",
              "      <th>amenity</th>\n",
              "      <th>name</th>\n",
              "      <th>amend_tag</th>\n",
              "      <th>closure_tag</th>\n",
              "      <th>previous_name</th>\n",
              "      <th>amenity_group</th>\n",
              "      <th>pre_amenity_group</th>\n",
              "    </tr>\n",
              "  </thead>\n",
              "  <tbody>\n",
              "    <tr>\n",
              "      <th>0</th>\n",
              "      <td>node</td>\n",
              "      <td>185743749</td>\n",
              "      <td>7</td>\n",
              "      <td>2021-05-09 23:14:56+00:00</td>\n",
              "      <td>51.550833</td>\n",
              "      <td>-0.138445</td>\n",
              "      <td>post_box</td>\n",
              "      <td>N/A</td>\n",
              "      <td>False</td>\n",
              "      <td>False</td>\n",
              "      <td>False</td>\n",
              "      <td>Public_Service</td>\n",
              "      <td>Other</td>\n",
              "    </tr>\n",
              "    <tr>\n",
              "      <th>1</th>\n",
              "      <td>node</td>\n",
              "      <td>303198052</td>\n",
              "      <td>3</td>\n",
              "      <td>2021-05-09 23:14:56+00:00</td>\n",
              "      <td>51.550804</td>\n",
              "      <td>-0.140390</td>\n",
              "      <td>bicycle_parking</td>\n",
              "      <td>N/A</td>\n",
              "      <td>False</td>\n",
              "      <td>False</td>\n",
              "      <td>False</td>\n",
              "      <td>Transportation</td>\n",
              "      <td>Other</td>\n",
              "    </tr>\n",
              "    <tr>\n",
              "      <th>2</th>\n",
              "      <td>node</td>\n",
              "      <td>8715968899</td>\n",
              "      <td>1</td>\n",
              "      <td>2021-05-09 23:14:56+00:00</td>\n",
              "      <td>51.550761</td>\n",
              "      <td>-0.135600</td>\n",
              "      <td>public_bookcase</td>\n",
              "      <td>Leighton Road Community Book Swap</td>\n",
              "      <td>N/A</td>\n",
              "      <td>False</td>\n",
              "      <td>False</td>\n",
              "      <td>Entertainment_Arts_Culture</td>\n",
              "      <td>Other</td>\n",
              "    </tr>\n",
              "    <tr>\n",
              "      <th>3</th>\n",
              "      <td>node</td>\n",
              "      <td>8716017943</td>\n",
              "      <td>1</td>\n",
              "      <td>2021-05-09 23:14:56+00:00</td>\n",
              "      <td>51.550776</td>\n",
              "      <td>-0.140567</td>\n",
              "      <td>bicycle_parking</td>\n",
              "      <td>N/A</td>\n",
              "      <td>N/A</td>\n",
              "      <td>False</td>\n",
              "      <td>False</td>\n",
              "      <td>Transportation</td>\n",
              "      <td>Other</td>\n",
              "    </tr>\n",
              "    <tr>\n",
              "      <th>4</th>\n",
              "      <td>node</td>\n",
              "      <td>8716017952</td>\n",
              "      <td>1</td>\n",
              "      <td>2021-05-09 23:14:56+00:00</td>\n",
              "      <td>51.550088</td>\n",
              "      <td>-0.140706</td>\n",
              "      <td>waste_basket</td>\n",
              "      <td>N/A</td>\n",
              "      <td>N/A</td>\n",
              "      <td>False</td>\n",
              "      <td>False</td>\n",
              "      <td>Waste_Management</td>\n",
              "      <td>Other</td>\n",
              "    </tr>\n",
              "  </tbody>\n",
              "</table>\n",
              "</div>"
            ],
            "text/plain": [
              "   type          id  ...               amenity_group pre_amenity_group\n",
              "0  node   185743749  ...              Public_Service             Other\n",
              "1  node   303198052  ...              Transportation             Other\n",
              "2  node  8715968899  ...  Entertainment_Arts_Culture             Other\n",
              "3  node  8716017943  ...              Transportation             Other\n",
              "4  node  8716017952  ...            Waste_Management             Other\n",
              "\n",
              "[5 rows x 13 columns]"
            ]
          },
          "metadata": {},
          "execution_count": 18
        }
      ]
    },
    {
      "cell_type": "markdown",
      "metadata": {
        "id": "EACv0ZA-mKxQ"
      },
      "source": [
        "**Classification Logic**\n",
        "\n",
        "\n",
        "*   Add: Version 1 + with Closure Tag not False\n",
        "*   Delete: All Closure Tag\n",
        "*   Update: Amend_Tag True/False + Closure Tag False\n",
        "\n",
        "\n",
        "\n"
      ]
    },
    {
      "cell_type": "markdown",
      "metadata": {
        "id": "2TGG500Z340p"
      },
      "source": [
        "## Bulk Import Cleaning"
      ]
    },
    {
      "cell_type": "code",
      "metadata": {
        "id": "DIVcj96JpdVo"
      },
      "source": [
        "# Bulk Import\n",
        "# Data Donation Cleansing\n",
        "elements = elements[(elements[\"amenity\"]!=\"bench\") | (elements[\"closure_tag\"] != \"False\")]\n",
        "elements = elements[(elements[\"amenity\"]!=\"bicycle_parking\") | (elements[\"closure_tag\"] != \"False\")]\n",
        "elements = elements[(elements[\"amenity\"]!=\"waste_basket\") | (elements[\"closure_tag\"] != \"False\")]\n",
        "elements = elements[(elements[\"amenity\"]!=\"telephone\") | (elements[\"closure_tag\"] != \"False\")]\n",
        "elements = elements[(elements[\"amenity\"]!=\"post_box\") | (elements[\"closure_tag\"] != \"False\")]\n",
        "elements = elements.reset_index(drop=True)"
      ],
      "execution_count": 19,
      "outputs": []
    },
    {
      "cell_type": "code",
      "metadata": {
        "colab": {
          "base_uri": "https://localhost:8080/",
          "height": 352
        },
        "id": "pA2inSnp8UOw",
        "outputId": "b795f4f7-5285-40d9-ea96-348de74375a4"
      },
      "source": [
        "elements.head()"
      ],
      "execution_count": 20,
      "outputs": [
        {
          "output_type": "execute_result",
          "data": {
            "text/html": [
              "<div>\n",
              "<style scoped>\n",
              "    .dataframe tbody tr th:only-of-type {\n",
              "        vertical-align: middle;\n",
              "    }\n",
              "\n",
              "    .dataframe tbody tr th {\n",
              "        vertical-align: top;\n",
              "    }\n",
              "\n",
              "    .dataframe thead th {\n",
              "        text-align: right;\n",
              "    }\n",
              "</style>\n",
              "<table border=\"1\" class=\"dataframe\">\n",
              "  <thead>\n",
              "    <tr style=\"text-align: right;\">\n",
              "      <th></th>\n",
              "      <th>type</th>\n",
              "      <th>id</th>\n",
              "      <th>Version</th>\n",
              "      <th>TS</th>\n",
              "      <th>Lat</th>\n",
              "      <th>Lon</th>\n",
              "      <th>amenity</th>\n",
              "      <th>name</th>\n",
              "      <th>amend_tag</th>\n",
              "      <th>closure_tag</th>\n",
              "      <th>previous_name</th>\n",
              "      <th>amenity_group</th>\n",
              "      <th>pre_amenity_group</th>\n",
              "    </tr>\n",
              "  </thead>\n",
              "  <tbody>\n",
              "    <tr>\n",
              "      <th>0</th>\n",
              "      <td>node</td>\n",
              "      <td>185743749</td>\n",
              "      <td>7</td>\n",
              "      <td>2021-05-09 23:14:56+00:00</td>\n",
              "      <td>51.550833</td>\n",
              "      <td>-0.138445</td>\n",
              "      <td>post_box</td>\n",
              "      <td>N/A</td>\n",
              "      <td>False</td>\n",
              "      <td>False</td>\n",
              "      <td>False</td>\n",
              "      <td>Public_Service</td>\n",
              "      <td>Other</td>\n",
              "    </tr>\n",
              "    <tr>\n",
              "      <th>1</th>\n",
              "      <td>node</td>\n",
              "      <td>303198052</td>\n",
              "      <td>3</td>\n",
              "      <td>2021-05-09 23:14:56+00:00</td>\n",
              "      <td>51.550804</td>\n",
              "      <td>-0.140390</td>\n",
              "      <td>bicycle_parking</td>\n",
              "      <td>N/A</td>\n",
              "      <td>False</td>\n",
              "      <td>False</td>\n",
              "      <td>False</td>\n",
              "      <td>Transportation</td>\n",
              "      <td>Other</td>\n",
              "    </tr>\n",
              "    <tr>\n",
              "      <th>2</th>\n",
              "      <td>node</td>\n",
              "      <td>8715968899</td>\n",
              "      <td>1</td>\n",
              "      <td>2021-05-09 23:14:56+00:00</td>\n",
              "      <td>51.550761</td>\n",
              "      <td>-0.135600</td>\n",
              "      <td>public_bookcase</td>\n",
              "      <td>Leighton Road Community Book Swap</td>\n",
              "      <td>N/A</td>\n",
              "      <td>False</td>\n",
              "      <td>False</td>\n",
              "      <td>Entertainment_Arts_Culture</td>\n",
              "      <td>Other</td>\n",
              "    </tr>\n",
              "    <tr>\n",
              "      <th>3</th>\n",
              "      <td>node</td>\n",
              "      <td>8716017943</td>\n",
              "      <td>1</td>\n",
              "      <td>2021-05-09 23:14:56+00:00</td>\n",
              "      <td>51.550776</td>\n",
              "      <td>-0.140567</td>\n",
              "      <td>bicycle_parking</td>\n",
              "      <td>N/A</td>\n",
              "      <td>N/A</td>\n",
              "      <td>False</td>\n",
              "      <td>False</td>\n",
              "      <td>Transportation</td>\n",
              "      <td>Other</td>\n",
              "    </tr>\n",
              "    <tr>\n",
              "      <th>4</th>\n",
              "      <td>node</td>\n",
              "      <td>8716017952</td>\n",
              "      <td>1</td>\n",
              "      <td>2021-05-09 23:14:56+00:00</td>\n",
              "      <td>51.550088</td>\n",
              "      <td>-0.140706</td>\n",
              "      <td>waste_basket</td>\n",
              "      <td>N/A</td>\n",
              "      <td>N/A</td>\n",
              "      <td>False</td>\n",
              "      <td>False</td>\n",
              "      <td>Waste_Management</td>\n",
              "      <td>Other</td>\n",
              "    </tr>\n",
              "  </tbody>\n",
              "</table>\n",
              "</div>"
            ],
            "text/plain": [
              "   type          id  ...               amenity_group pre_amenity_group\n",
              "0  node   185743749  ...              Public_Service             Other\n",
              "1  node   303198052  ...              Transportation             Other\n",
              "2  node  8715968899  ...  Entertainment_Arts_Culture             Other\n",
              "3  node  8716017943  ...              Transportation             Other\n",
              "4  node  8716017952  ...            Waste_Management             Other\n",
              "\n",
              "[5 rows x 13 columns]"
            ]
          },
          "metadata": {},
          "execution_count": 20
        }
      ]
    },
    {
      "cell_type": "code",
      "metadata": {
        "id": "JqQVJ8cp70sA"
      },
      "source": [
        "# Save the file for further use in order to save computational time\n",
        "elements.to_csv(\"London_Data_v6.csv\",index=False)"
      ],
      "execution_count": 21,
      "outputs": []
    }
  ]
}